{
 "cells": [
  {
   "cell_type": "code",
   "execution_count": null,
   "metadata": {
    "collapsed": false
   },
   "outputs": [],
   "source": [
    "# Play a song every 2 hrs to remind to take a break\n",
    "\n",
    "import webbrowser \n",
    "import time\n",
    "\n",
    "print (\"This program started on\" + time.ctime())\n",
    "for i in range(1,3):\n",
    "    time.sleep(2*60*60)\n",
    "    webbrowser.open(\"https://www.youtube.com/watch?v=Pv0PAchVGCw\")\n",
    "    "
   ]
  },
  {
   "cell_type": "code",
   "execution_count": null,
   "metadata": {
    "collapsed": false
   },
   "outputs": [],
   "source": [
    "#Renaming files on computer\n",
    "\n",
    "import os\n",
    "os.chdir('C:\\\\Users\\\\dhrugarg\\\\Documents\\\\Python Scripts\\prank')\n",
    "\n",
    "ls = os.listdir(os.getcwd())\n",
    "for i in ls:\n",
    "    print (\"Old name\" + i)\n",
    "    print (\"New Name\" + i.translate(None,\"123456789\"))\n",
    "    os.rename(i,i.translate(None,\"123456789\"))\n",
    "\n",
    "os.chdir('C:\\\\Users\\\\dhrugarg\\\\Documents\\\\Python Scripts')\n"
   ]
  },
  {
   "cell_type": "code",
   "execution_count": null,
   "metadata": {
    "collapsed": false
   },
   "outputs": [],
   "source": [
    "# Using turtle class to create a circle square turtle graphic\n",
    "\n",
    "import turtle\n",
    "\n",
    "def draw_square(t1):\n",
    "    for i in range(1,5):\n",
    "        t1.forward(100)\n",
    "        t1.right(90)\n",
    "        \n",
    "def run_turtle():\n",
    "    backg = turtle.Screen()\n",
    "    backg.bgcolor(\"red\")\n",
    "    t1 = turtle.Turtle()\n",
    "    t1.shape(\"turtle\")\n",
    "    t1.color(\"blue\")\n",
    "    for i in range(1,36):\n",
    "        draw_square(t1)\n",
    "        t1.right(10)  \n",
    "    backg.exitonclick()\n",
    "    \n",
    "run_turtle()"
   ]
  },
  {
   "cell_type": "code",
   "execution_count": null,
   "metadata": {
    "collapsed": false
   },
   "outputs": [],
   "source": [
    "# Using turtle class to create a triangle square turtle graphic\n",
    "\n",
    "# import webbrowser \n",
    "# webbrowser.open(\"https://www.youtube.com/watch?v=JRfuAukYTKg&index=2&list=RD1y6smkh6c-0\")\n",
    "import turtle\n",
    "from turtle import *\n",
    "\n",
    "def draw_triangle(start_angle,t1,end_position):\n",
    "      \n",
    "    t1.begin_fill()\n",
    "    t1.left(start_angle)\n",
    "    for i in range(3):      \n",
    "        t1.forward(30)\n",
    "        t1.left(120)       \n",
    "    t1.end_fill()\n",
    "    if end_position =='opposite':\n",
    "        t1.forward(30)\n",
    "    elif end_position =='top':\n",
    "        t1.forward(30)\n",
    "        t1.left(120) \n",
    "        t1.forward(30)          \n",
    "\n",
    "        \n",
    "def run_turtle():\n",
    "    backg = turtle.Screen()\n",
    "    backg.bgcolor(\"red\")\n",
    "    t1 = Turtle()\n",
    "\n",
    "    t1.color(\"blue\",\"green\")\n",
    "    \n",
    "    # One iteration of the design \n",
    "    \n",
    "    for ds in range (3):\n",
    "        \n",
    "        for j in range(3):\n",
    "            draw_triangle(0,t1,'opposite')\n",
    "        draw_triangle(0,t1,'top',)    \n",
    "\n",
    "        for k in range(2):\n",
    "            draw_triangle(0,t1,'opposite')\n",
    "        draw_triangle(0,t1,'top',)\n",
    "\n",
    "        draw_triangle(0,t1,'opposite')\n",
    "        draw_triangle(0,t1,'opposite')\n",
    "        t1.forward(30)\n",
    "\n",
    "        # Moving the arrow in place for the next iteration\n",
    "        if ds %2 == 0:\n",
    "            t1.left(120)\n",
    "            t1.forward(120)\n",
    "        else:\n",
    "            t1.right(120)\n",
    "            t1.forward(120)\n",
    "            t1.right(120)\n",
    "            \n",
    "    backg.exitonclick()\n",
    "    \n",
    "run_turtle()\n"
   ]
  },
  {
   "cell_type": "code",
   "execution_count": 37,
   "metadata": {
    "collapsed": false
   },
   "outputs": [
    {
     "name": "stdout",
     "output_type": "stream",
     "text": [
      "EVERYTHING FINE\n"
     ]
    }
   ],
   "source": [
    "# Creating a Profanity Checker in Python\n",
    "# In all we creating objects of classes through function(open) and then using functions such as read,close etc \n",
    "# that these class objects have\n",
    "\n",
    "import os\n",
    "import urllib\n",
    "os.chdir(\"C:\\Users\\dhrugarg\\Desktop\\Technical Material\\Python\\Object_Oriented_Programing_Udacity\")\n",
    "\n",
    "# Read a text file in Python\n",
    "\n",
    "def read_file(filename):\n",
    "    file = open(filename)\n",
    "    txt = file.read()\n",
    "    prof_check_file(txt)\n",
    "    file.close()  \n",
    "    \n",
    "def prof_check_file(text):\n",
    "    url_obj = urllib.urlopen(\"http://www.purgomalum.com/service/containsprofanity?text=\" + text)\n",
    "    output = url_obj.read()\n",
    "    if \"true\" in output:\n",
    "        print \"PROFANITY ALERT\"\n",
    "    else:\n",
    "        print \"EVERYTHING FINE\"\n",
    "        \n",
    "    url_obj.close()\n",
    "\n",
    "    \n",
    "read_file(\"movie_quotes.txt\")"
   ]
  },
  {
   "cell_type": "code",
   "execution_count": 90,
   "metadata": {
    "collapsed": false
   },
   "outputs": [
    {
     "name": "stdout",
     "output_type": "stream",
     "text": [
      "Hi this is the documentation for the class Movie\n",
      "RawTurtle auto-creating (scrolled) canvas.\n",
      "\n",
      "    When a Turtle object is created or a function derived from some\n",
      "    Turtle method is called a TurtleScreen object is automatically created.\n",
      "    \n",
      "Turtle\n",
      "Movie\n"
     ]
    }
   ],
   "source": [
    "import OOPS_Udacity_Media_3  # Need to save OOPS_Udacity_Media_3 as .py file\n",
    "import webbrowser \n",
    "import fresh_tomatoes\n",
    "import turtle\n",
    "\n",
    "Toy_Story = OOPS_Udacity_Media_3.Movie(\"Toy Story\",\"A story of a boy and his toys\",\n",
    "\n",
    "                                       \"https://en.wikipedia.org/wiki/Toy_Story\",\"https://www.youtube.com/watch?v=SgoiKLFBA3Q\")\n",
    "\n",
    "Avatar = OOPS_Udacity_Media_3.Movie(\"Avatar\",\"A story of a boy and his Avatars\",\n",
    "                                   \"https://en.wikipedia.org/wiki/Avatar_(2009_film)\",\"https://www.youtube.com/watch?v=cRdxXPV9GNQ\")\n",
    "\n",
    "#print Avatar.storyline \n",
    "\n",
    "\n",
    "# You could have also created the movie class here instead of in a seprate .py file\n",
    "\n",
    "class Movie():\n",
    "    \n",
    "    \"\"\"Hi this is the documentation for the class Movie\"\"\"\n",
    "    \n",
    "    VALID_RATINGS = [\"G\",\"PG-13\",\"PG\",\"R\"]\n",
    "    def __init__(self,title,storyline,image,trailer):        \n",
    "        self.title = title\n",
    "        self.storyline = storyline\n",
    "        self.poster_image_url = image\n",
    "        self.trailer_youtube_url = trailer\n",
    "     \n",
    "    def play_trailer(self):\n",
    "        webbrowser.open(self.trailer)\n",
    "    \n",
    "\n",
    "Toy_Story_1 = Movie(\"Toy Story\",\"A story of a boy and his toys\",\n",
    "                                       \"https://upload.wikimedia.org/wikipedia/en/1/13/Toy_Story.jpg\",\n",
    "                                       \"https://www.youtube.com/watch?v=SgoiKLFBA3Q\")\n",
    "\n",
    "Avatar_1 = Movie(\"Avatar\",\"A story of a boy and his Avatars\",\n",
    "                                   \"https://upload.wikimedia.org/wikipedia/en/b/b0/Avatar-Teaser-Poster.jpg\",\n",
    "                                   \"https://www.youtube.com/watch?v=cRdxXPV9GNQ\")\n",
    "\n",
    "#print Avatar_1.story_1\n",
    "\n",
    "# Using the fresh tomatoes library to create a movie website - The open movies page takes in a list or array \n",
    "# of all movie objects as inputs\n",
    "\n",
    "# mov = [Toy_Story_1,Avatar_1]\n",
    "# fresh_tomatoes.open_movies_page(mov)\n",
    "\n",
    "# Accessing the default class variable called __doc__ for the class Turtle and Movie\n",
    "print Movie.__doc__\n",
    "print turtle.Turtle.__doc__\n",
    "print turtle.Turtle.__name__\n",
    "print Movie.__module__"
   ]
  },
  {
   "cell_type": "code",
   "execution_count": 104,
   "metadata": {
    "collapsed": false
   },
   "outputs": [
    {
     "name": "stdout",
     "output_type": "stream",
     "text": [
      "Parent Constructor Called\n",
      "cyrus\n",
      "Child Constructor Called\n",
      "Parent Constructor Called\n",
      "Hi\n",
      "5\n",
      "No Toys is:5\n",
      "Last name is:cyrus\n",
      "None\n"
     ]
    }
   ],
   "source": [
    "# Looking at Inheritence\n",
    "\n",
    "class Parent():\n",
    "    var = \"Hi\"\n",
    "    def __init__(self,last_name,eye_color):\n",
    "        self.last_name = last_name\n",
    "        self.eye_color = eye_color\n",
    "        print (\"Parent Constructor Called\")\n",
    "      \n",
    "    def print_vals(self):\n",
    "        print (\"Eye color is:\" + self.eye_color)\n",
    "        print (\"Last name is:\" + self.last_name)\n",
    "        \n",
    "\n",
    "billy = Parent(\"cyrus\",\"black\")\n",
    "print billy.last_name\n",
    "\n",
    "class Child(Parent):                   # Class child will use everything that is publically available in class Parent\n",
    "    def __init__(self,last_name,eye_color,no_toys):\n",
    "        print (\"Child Constructor Called\")\n",
    "        \n",
    "        Parent.__init__(self,last_name,eye_color)  # Calling the constructor of the Parent class explicitly as we have created\n",
    "        self.no_toys = no_toys                     # a constructor for the child class here hence the parent one would be overriden\n",
    "    \n",
    "    def print_vals(self):                          # This method now overrides the print_vals method written in the Parent class\n",
    "        print (\"No Toys is:\" + self.no_toys)\n",
    "        print (\"Last name is:\" + self.last_name)\n",
    "        \n",
    "miley = Child(\"cyrus\",\"black\",\"5\")\n",
    "print miley.var\n",
    "print miley.no_toys\n",
    "print miley.print_vals() # The child class inherits all the methods from the parent class including the print_vals method"
   ]
  },
  {
   "cell_type": "code",
   "execution_count": null,
   "metadata": {
    "collapsed": false
   },
   "outputs": [],
   "source": []
  },
  {
   "cell_type": "code",
   "execution_count": null,
   "metadata": {
    "collapsed": false
   },
   "outputs": [],
   "source": []
  },
  {
   "cell_type": "code",
   "execution_count": null,
   "metadata": {
    "collapsed": false
   },
   "outputs": [],
   "source": []
  }
 ],
 "metadata": {
  "anaconda-cloud": {},
  "kernelspec": {
   "display_name": "Python [conda root]",
   "language": "python",
   "name": "conda-root-py"
  },
  "language_info": {
   "codemirror_mode": {
    "name": "ipython",
    "version": 2
   },
   "file_extension": ".py",
   "mimetype": "text/x-python",
   "name": "python",
   "nbconvert_exporter": "python",
   "pygments_lexer": "ipython2",
   "version": "2.7.12"
  }
 },
 "nbformat": 4,
 "nbformat_minor": 1
}
