{
 "cells": [
  {
   "cell_type": "code",
   "execution_count": null,
   "metadata": {
    "collapsed": true
   },
   "outputs": [],
   "source": [
    "# Play a song every 2 hrs to remind to take a break\n",
    "\n",
    "import webbrowser \n",
    "import time\n",
    "\n",
    "print (\"This program started on\" + time.ctime())\n",
    "for i in range(1,3):\n",
    "    time.sleep(2*60*60)\n",
    "    webbrowser.open(\"https://www.youtube.com/watch?v=Pv0PAchVGCw\")\n",
    "    "
   ]
  },
  {
   "cell_type": "code",
   "execution_count": null,
   "metadata": {
    "collapsed": true
   },
   "outputs": [],
   "source": [
    "#Renaming files on computer\n",
    "\n",
    "import os\n",
    "os.chdir('C:\\\\Users\\\\dhrugarg\\\\Documents\\\\Python Scripts\\prank')\n",
    "\n",
    "ls = os.listdir(os.getcwd())\n",
    "for i in ls:\n",
    "    print (\"Old name\" + i)\n",
    "    print (\"New Name\" + i.translate(None,\"123456789\"))\n",
    "    os.rename(i,i.translate(None,\"123456789\"))\n",
    "\n",
    "os.chdir('C:\\\\Users\\\\dhrugarg\\\\Documents\\\\Python Scripts')\n"
   ]
  },
  {
   "cell_type": "code",
   "execution_count": null,
   "metadata": {
    "collapsed": true
   },
   "outputs": [],
   "source": [
    "# Using turtle class to create a circle square turtle graphic\n",
    "\n",
    "import turtle\n",
    "\n",
    "def draw_square(t1):\n",
    "    for i in range(1,5):\n",
    "        t1.forward(100)\n",
    "        t1.right(90)\n",
    "        \n",
    "def run_turtle():\n",
    "    backg = turtle.Screen()\n",
    "    backg.bgcolor(\"red\")\n",
    "    t1 = turtle.Turtle()\n",
    "    t1.shape(\"turtle\")\n",
    "    t1.color(\"blue\")\n",
    "    for i in range(1,36):\n",
    "        draw_square(t1)\n",
    "        t1.right(10)  \n",
    "    backg.exitonclick()\n",
    "    \n",
    "run_turtle()"
   ]
  },
  {
   "cell_type": "code",
   "execution_count": 1,
   "metadata": {},
   "outputs": [
    {
     "ename": "Terminator",
     "evalue": "",
     "output_type": "error",
     "traceback": [
      "\u001b[1;31m---------------------------------------------------------------------------\u001b[0m",
      "\u001b[1;31mTerminator\u001b[0m                                Traceback (most recent call last)",
      "\u001b[1;32m<ipython-input-1-ec2a62a96ecd>\u001b[0m in \u001b[0;36m<module>\u001b[1;34m()\u001b[0m\n\u001b[0;32m     56\u001b[0m     \u001b[0mbackg\u001b[0m\u001b[1;33m.\u001b[0m\u001b[0mexitonclick\u001b[0m\u001b[1;33m(\u001b[0m\u001b[1;33m)\u001b[0m\u001b[1;33m\u001b[0m\u001b[0m\n\u001b[0;32m     57\u001b[0m \u001b[1;33m\u001b[0m\u001b[0m\n\u001b[1;32m---> 58\u001b[1;33m \u001b[0mrun_turtle\u001b[0m\u001b[1;33m(\u001b[0m\u001b[1;33m)\u001b[0m\u001b[1;33m\u001b[0m\u001b[0m\n\u001b[0m",
      "\u001b[1;32m<ipython-input-1-ec2a62a96ecd>\u001b[0m in \u001b[0;36mrun_turtle\u001b[1;34m()\u001b[0m\n\u001b[0;32m     34\u001b[0m \u001b[1;33m\u001b[0m\u001b[0m\n\u001b[0;32m     35\u001b[0m         \u001b[1;32mfor\u001b[0m \u001b[0mj\u001b[0m \u001b[1;32min\u001b[0m \u001b[0mrange\u001b[0m\u001b[1;33m(\u001b[0m\u001b[1;36m3\u001b[0m\u001b[1;33m)\u001b[0m\u001b[1;33m:\u001b[0m\u001b[1;33m\u001b[0m\u001b[0m\n\u001b[1;32m---> 36\u001b[1;33m             \u001b[0mdraw_triangle\u001b[0m\u001b[1;33m(\u001b[0m\u001b[1;36m0\u001b[0m\u001b[1;33m,\u001b[0m\u001b[0mt1\u001b[0m\u001b[1;33m,\u001b[0m\u001b[1;34m'opposite'\u001b[0m\u001b[1;33m)\u001b[0m\u001b[1;33m\u001b[0m\u001b[0m\n\u001b[0m\u001b[0;32m     37\u001b[0m         \u001b[0mdraw_triangle\u001b[0m\u001b[1;33m(\u001b[0m\u001b[1;36m0\u001b[0m\u001b[1;33m,\u001b[0m\u001b[0mt1\u001b[0m\u001b[1;33m,\u001b[0m\u001b[1;34m'top'\u001b[0m\u001b[1;33m,\u001b[0m\u001b[1;33m)\u001b[0m\u001b[1;33m\u001b[0m\u001b[0m\n\u001b[0;32m     38\u001b[0m \u001b[1;33m\u001b[0m\u001b[0m\n",
      "\u001b[1;32m<ipython-input-1-ec2a62a96ecd>\u001b[0m in \u001b[0;36mdraw_triangle\u001b[1;34m(start_angle, t1, end_position)\u001b[0m\n\u001b[0;32m     12\u001b[0m     \u001b[1;32mfor\u001b[0m \u001b[0mi\u001b[0m \u001b[1;32min\u001b[0m \u001b[0mrange\u001b[0m\u001b[1;33m(\u001b[0m\u001b[1;36m3\u001b[0m\u001b[1;33m)\u001b[0m\u001b[1;33m:\u001b[0m\u001b[1;33m\u001b[0m\u001b[0m\n\u001b[0;32m     13\u001b[0m         \u001b[0mt1\u001b[0m\u001b[1;33m.\u001b[0m\u001b[0mforward\u001b[0m\u001b[1;33m(\u001b[0m\u001b[1;36m30\u001b[0m\u001b[1;33m)\u001b[0m\u001b[1;33m\u001b[0m\u001b[0m\n\u001b[1;32m---> 14\u001b[1;33m         \u001b[0mt1\u001b[0m\u001b[1;33m.\u001b[0m\u001b[0mleft\u001b[0m\u001b[1;33m(\u001b[0m\u001b[1;36m120\u001b[0m\u001b[1;33m)\u001b[0m\u001b[1;33m\u001b[0m\u001b[0m\n\u001b[0m\u001b[0;32m     15\u001b[0m     \u001b[0mt1\u001b[0m\u001b[1;33m.\u001b[0m\u001b[0mend_fill\u001b[0m\u001b[1;33m(\u001b[0m\u001b[1;33m)\u001b[0m\u001b[1;33m\u001b[0m\u001b[0m\n\u001b[0;32m     16\u001b[0m     \u001b[1;32mif\u001b[0m \u001b[0mend_position\u001b[0m \u001b[1;33m==\u001b[0m\u001b[1;34m'opposite'\u001b[0m\u001b[1;33m:\u001b[0m\u001b[1;33m\u001b[0m\u001b[0m\n",
      "\u001b[1;32mC:\\Users\\dhrugarg\\AppData\\Local\\Continuum\\anaconda2\\lib\\lib-tk\\turtle.pyc\u001b[0m in \u001b[0;36mleft\u001b[1;34m(self, angle)\u001b[0m\n\u001b[0;32m   1613\u001b[0m         \u001b[1;36m67.0\u001b[0m\u001b[1;33m\u001b[0m\u001b[0m\n\u001b[0;32m   1614\u001b[0m         \"\"\"\n\u001b[1;32m-> 1615\u001b[1;33m         \u001b[0mself\u001b[0m\u001b[1;33m.\u001b[0m\u001b[0m_rotate\u001b[0m\u001b[1;33m(\u001b[0m\u001b[0mangle\u001b[0m\u001b[1;33m)\u001b[0m\u001b[1;33m\u001b[0m\u001b[0m\n\u001b[0m\u001b[0;32m   1616\u001b[0m \u001b[1;33m\u001b[0m\u001b[0m\n\u001b[0;32m   1617\u001b[0m     \u001b[1;32mdef\u001b[0m \u001b[0mpos\u001b[0m\u001b[1;33m(\u001b[0m\u001b[0mself\u001b[0m\u001b[1;33m)\u001b[0m\u001b[1;33m:\u001b[0m\u001b[1;33m\u001b[0m\u001b[0m\n",
      "\u001b[1;32mC:\\Users\\dhrugarg\\AppData\\Local\\Continuum\\anaconda2\\lib\\lib-tk\\turtle.pyc\u001b[0m in \u001b[0;36m_rotate\u001b[1;34m(self, angle)\u001b[0m\n\u001b[0;32m   3107\u001b[0m             \u001b[1;32mfor\u001b[0m \u001b[0m_\u001b[0m \u001b[1;32min\u001b[0m \u001b[0mrange\u001b[0m\u001b[1;33m(\u001b[0m\u001b[0msteps\u001b[0m\u001b[1;33m)\u001b[0m\u001b[1;33m:\u001b[0m\u001b[1;33m\u001b[0m\u001b[0m\n\u001b[0;32m   3108\u001b[0m                 \u001b[0mself\u001b[0m\u001b[1;33m.\u001b[0m\u001b[0m_orient\u001b[0m \u001b[1;33m=\u001b[0m \u001b[0mself\u001b[0m\u001b[1;33m.\u001b[0m\u001b[0m_orient\u001b[0m\u001b[1;33m.\u001b[0m\u001b[0mrotate\u001b[0m\u001b[1;33m(\u001b[0m\u001b[0mdelta\u001b[0m\u001b[1;33m)\u001b[0m\u001b[1;33m\u001b[0m\u001b[0m\n\u001b[1;32m-> 3109\u001b[1;33m                 \u001b[0mself\u001b[0m\u001b[1;33m.\u001b[0m\u001b[0m_update\u001b[0m\u001b[1;33m(\u001b[0m\u001b[1;33m)\u001b[0m\u001b[1;33m\u001b[0m\u001b[0m\n\u001b[0m\u001b[0;32m   3110\u001b[0m         \u001b[0mself\u001b[0m\u001b[1;33m.\u001b[0m\u001b[0m_orient\u001b[0m \u001b[1;33m=\u001b[0m \u001b[0mneworient\u001b[0m\u001b[1;33m\u001b[0m\u001b[0m\n\u001b[0;32m   3111\u001b[0m         \u001b[0mself\u001b[0m\u001b[1;33m.\u001b[0m\u001b[0m_update\u001b[0m\u001b[1;33m(\u001b[0m\u001b[1;33m)\u001b[0m\u001b[1;33m\u001b[0m\u001b[0m\n",
      "\u001b[1;32mC:\\Users\\dhrugarg\\AppData\\Local\\Continuum\\anaconda2\\lib\\lib-tk\\turtle.pyc\u001b[0m in \u001b[0;36m_update\u001b[1;34m(self)\u001b[0m\n\u001b[0;32m   2563\u001b[0m             \u001b[1;32mreturn\u001b[0m\u001b[1;33m\u001b[0m\u001b[0m\n\u001b[0;32m   2564\u001b[0m         \u001b[1;32melif\u001b[0m \u001b[0mscreen\u001b[0m\u001b[1;33m.\u001b[0m\u001b[0m_tracing\u001b[0m \u001b[1;33m==\u001b[0m \u001b[1;36m1\u001b[0m\u001b[1;33m:\u001b[0m\u001b[1;33m\u001b[0m\u001b[0m\n\u001b[1;32m-> 2565\u001b[1;33m             \u001b[0mself\u001b[0m\u001b[1;33m.\u001b[0m\u001b[0m_update_data\u001b[0m\u001b[1;33m(\u001b[0m\u001b[1;33m)\u001b[0m\u001b[1;33m\u001b[0m\u001b[0m\n\u001b[0m\u001b[0;32m   2566\u001b[0m             \u001b[0mself\u001b[0m\u001b[1;33m.\u001b[0m\u001b[0m_drawturtle\u001b[0m\u001b[1;33m(\u001b[0m\u001b[1;33m)\u001b[0m\u001b[1;33m\u001b[0m\u001b[0m\n\u001b[0;32m   2567\u001b[0m             \u001b[0mscreen\u001b[0m\u001b[1;33m.\u001b[0m\u001b[0m_update\u001b[0m\u001b[1;33m(\u001b[0m\u001b[1;33m)\u001b[0m                  \u001b[1;31m# TurtleScreenBase\u001b[0m\u001b[1;33m\u001b[0m\u001b[0m\n",
      "\u001b[1;32mC:\\Users\\dhrugarg\\AppData\\Local\\Continuum\\anaconda2\\lib\\lib-tk\\turtle.pyc\u001b[0m in \u001b[0;36m_update_data\u001b[1;34m(self)\u001b[0m\n\u001b[0;32m   2549\u001b[0m \u001b[1;33m\u001b[0m\u001b[0m\n\u001b[0;32m   2550\u001b[0m     \u001b[1;32mdef\u001b[0m \u001b[0m_update_data\u001b[0m\u001b[1;33m(\u001b[0m\u001b[0mself\u001b[0m\u001b[1;33m)\u001b[0m\u001b[1;33m:\u001b[0m\u001b[1;33m\u001b[0m\u001b[0m\n\u001b[1;32m-> 2551\u001b[1;33m         \u001b[0mself\u001b[0m\u001b[1;33m.\u001b[0m\u001b[0mscreen\u001b[0m\u001b[1;33m.\u001b[0m\u001b[0m_incrementudc\u001b[0m\u001b[1;33m(\u001b[0m\u001b[1;33m)\u001b[0m\u001b[1;33m\u001b[0m\u001b[0m\n\u001b[0m\u001b[0;32m   2552\u001b[0m         \u001b[1;32mif\u001b[0m \u001b[0mself\u001b[0m\u001b[1;33m.\u001b[0m\u001b[0mscreen\u001b[0m\u001b[1;33m.\u001b[0m\u001b[0m_updatecounter\u001b[0m \u001b[1;33m!=\u001b[0m \u001b[1;36m0\u001b[0m\u001b[1;33m:\u001b[0m\u001b[1;33m\u001b[0m\u001b[0m\n\u001b[0;32m   2553\u001b[0m             \u001b[1;32mreturn\u001b[0m\u001b[1;33m\u001b[0m\u001b[0m\n",
      "\u001b[1;32mC:\\Users\\dhrugarg\\AppData\\Local\\Continuum\\anaconda2\\lib\\lib-tk\\turtle.pyc\u001b[0m in \u001b[0;36m_incrementudc\u001b[1;34m(self)\u001b[0m\n\u001b[0;32m   1238\u001b[0m         \u001b[1;32mif\u001b[0m \u001b[1;32mnot\u001b[0m \u001b[0mTurtleScreen\u001b[0m\u001b[1;33m.\u001b[0m\u001b[0m_RUNNING\u001b[0m\u001b[1;33m:\u001b[0m\u001b[1;33m\u001b[0m\u001b[0m\n\u001b[0;32m   1239\u001b[0m             \u001b[0mTurtleScreen\u001b[0m\u001b[1;33m.\u001b[0m\u001b[0m_RUNNING\u001b[0m \u001b[1;33m=\u001b[0m \u001b[0mTrue\u001b[0m\u001b[1;33m\u001b[0m\u001b[0m\n\u001b[1;32m-> 1240\u001b[1;33m             \u001b[1;32mraise\u001b[0m \u001b[0mTerminator\u001b[0m\u001b[1;33m\u001b[0m\u001b[0m\n\u001b[0m\u001b[0;32m   1241\u001b[0m         \u001b[1;32mif\u001b[0m \u001b[0mself\u001b[0m\u001b[1;33m.\u001b[0m\u001b[0m_tracing\u001b[0m \u001b[1;33m>\u001b[0m \u001b[1;36m0\u001b[0m\u001b[1;33m:\u001b[0m\u001b[1;33m\u001b[0m\u001b[0m\n\u001b[0;32m   1242\u001b[0m             \u001b[0mself\u001b[0m\u001b[1;33m.\u001b[0m\u001b[0m_updatecounter\u001b[0m \u001b[1;33m+=\u001b[0m \u001b[1;36m1\u001b[0m\u001b[1;33m\u001b[0m\u001b[0m\n",
      "\u001b[1;31mTerminator\u001b[0m: "
     ]
    }
   ],
   "source": [
    "# Using turtle class to create a triangle square turtle graphic\n",
    "\n",
    "# import webbrowser \n",
    "# webbrowser.open(\"https://www.youtube.com/watch?v=JRfuAukYTKg&index=2&list=RD1y6smkh6c-0\")\n",
    "import turtle\n",
    "from turtle import *\n",
    "\n",
    "def draw_triangle(start_angle,t1,end_position):\n",
    "      \n",
    "    t1.begin_fill()\n",
    "    t1.left(start_angle)\n",
    "    for i in range(3):      \n",
    "        t1.forward(30)\n",
    "        t1.left(120)       \n",
    "    t1.end_fill()\n",
    "    if end_position =='opposite':\n",
    "        t1.forward(30)\n",
    "    elif end_position =='top':\n",
    "        t1.forward(30)\n",
    "        t1.left(120) \n",
    "        t1.forward(30)          \n",
    "\n",
    "        \n",
    "def run_turtle():\n",
    "    backg = Screen()\n",
    "    backg.bgcolor(\"red\")\n",
    "    t1 = Turtle()\n",
    "\n",
    "    t1.color(\"blue\",\"green\")\n",
    "    \n",
    "    # One iteration of the design \n",
    "    \n",
    "    for ds in range (3):\n",
    "        \n",
    "        for j in range(3):\n",
    "            draw_triangle(0,t1,'opposite')\n",
    "        draw_triangle(0,t1,'top',)    \n",
    "\n",
    "        for k in range(2):\n",
    "            draw_triangle(0,t1,'opposite')\n",
    "        draw_triangle(0,t1,'top',)\n",
    "\n",
    "        draw_triangle(0,t1,'opposite')\n",
    "        draw_triangle(0,t1,'opposite')\n",
    "        t1.forward(30)\n",
    "\n",
    "        # Moving the arrow in place for the next iteration\n",
    "        if ds %2 == 0:\n",
    "            t1.left(120)\n",
    "            t1.forward(120)\n",
    "        else:\n",
    "            t1.right(120)\n",
    "            t1.forward(120)\n",
    "            t1.right(120)\n",
    "            \n",
    "    backg.exitonclick()\n",
    "    \n",
    "run_turtle()\n"
   ]
  },
  {
   "cell_type": "code",
   "execution_count": 37,
   "metadata": {},
   "outputs": [
    {
     "name": "stdout",
     "output_type": "stream",
     "text": [
      "EVERYTHING FINE\n"
     ]
    }
   ],
   "source": [
    "# Creating a Profanity Checker in Python\n",
    "# In all we creating objects of classes through function(open) and then using functions such as read,close etc \n",
    "# that these class objects have\n",
    "\n",
    "import os\n",
    "import urllib\n",
    "os.chdir(\"C:\\Users\\dhrugarg\\Desktop\\Technical Material\\Python\\Object_Oriented_Programing_Udacity\")\n",
    "\n",
    "# Read a text file in Python\n",
    "\n",
    "def read_file(filename):\n",
    "    file = open(filename)\n",
    "    txt = file.read()\n",
    "    prof_check_file(txt)\n",
    "    file.close()  \n",
    "    \n",
    "def prof_check_file(text):\n",
    "    url_obj = urllib.urlopen(\"http://www.purgomalum.com/service/containsprofanity?text=\" + text)\n",
    "    output = url_obj.read()\n",
    "    if \"true\" in output:\n",
    "        print \"PROFANITY ALERT\"\n",
    "    else:\n",
    "        print \"EVERYTHING FINE\"\n",
    "        \n",
    "    url_obj.close()\n",
    "\n",
    "    \n",
    "read_file(\"movie_quotes.txt\")"
   ]
  },
  {
   "cell_type": "code",
   "execution_count": 3,
   "metadata": {},
   "outputs": [
    {
     "name": "stdout",
     "output_type": "stream",
     "text": [
      "Hi this is the documentation for the class Movie\n",
      "RawTurtle auto-creating (scrolled) canvas.\n",
      "\n",
      "    When a Turtle object is created or a function derived from some\n",
      "    Turtle method is called a TurtleScreen object is automatically created.\n",
      "    \n",
      "Turtle\n",
      "__main__\n",
      "Movie\n",
      "Hi\n"
     ]
    }
   ],
   "source": [
    "import OOPS_Udacity_Media_3  # Need to save OOPS_Udacity_Media_3 as .py file\n",
    "import webbrowser \n",
    "import fresh_tomatoes\n",
    "import turtle\n",
    "\n",
    "Toy_Story = OOPS_Udacity_Media_3.Movie(\"Toy Story\",\"A story of a boy and his toys\",\n",
    "\n",
    "                                       \"https://en.wikipedia.org/wiki/Toy_Story\",\"https://www.youtube.com/watch?v=SgoiKLFBA3Q\")\n",
    "\n",
    "Avatar = OOPS_Udacity_Media_3.Movie(\"Avatar\",\"A story of a boy and his Avatars\",\n",
    "                                   \"https://en.wikipedia.org/wiki/Avatar_(2009_film)\",\"https://www.youtube.com/watch?v=cRdxXPV9GNQ\")\n",
    "\n",
    "#print Avatar.storyline \n",
    "\n",
    "\n",
    "# You could have also created the movie class here instead of in a seprate .py file\n",
    "\n",
    "class Movie():\n",
    "    \n",
    "    \"\"\"Hi this is the documentation for the class Movie\"\"\"\n",
    "\n",
    "    VALID_RATINGS = [\"G\",\"PG-13\",\"PG\",\"R\"]\n",
    "    def __init__(self,title,storyline,image,trailer):        \n",
    "        self.title = title\n",
    "        self.storyline = storyline\n",
    "        self.poster_image_url = image\n",
    "        self.trailer_youtube_url = trailer\n",
    "     \n",
    "    def play_trailer(self):\n",
    "        webbrowser.open(self.trailer)\n",
    "    \n",
    "\n",
    "Toy_Story_1 = Movie(\"Toy Story\",\"A story of a boy and his toys\",\n",
    "                                       \"https://upload.wikimedia.org/wikipedia/en/1/13/Toy_Story.jpg\",\n",
    "                                       \"https://www.youtube.com/watch?v=SgoiKLFBA3Q\")\n",
    "\n",
    "Avatar_1 = Movie(\"Avatar\",\"A story of a boy and his Avatars\",\n",
    "                                   \"https://upload.wikimedia.org/wikipedia/en/b/b0/Avatar-Teaser-Poster.jpg\",\n",
    "                                   \"https://www.youtube.com/watch?v=cRdxXPV9GNQ\")\n",
    "\n",
    "#print Avatar_1.story_1\n",
    "\n",
    "# Using the fresh tomatoes library to create a movie website - The open movies page takes in a list or array \n",
    "# of all movie objects as inputs\n",
    "\n",
    "# mov = [Toy_Story_1,Avatar_1]\n",
    "# fresh_tomatoes.open_movies_page(mov)\n",
    "\n",
    "# Accessing the default class variable called __doc__ for the class Turtle and Movie\n",
    "print Movie.__doc__\n",
    "print turtle.Turtle.__doc__\n",
    "print turtle.Turtle.__name__\n",
    "print Movie.__module__\n",
    "print Movie.__name__"
   ]
  },
  {
   "cell_type": "code",
   "execution_count": 29,
   "metadata": {},
   "outputs": [
    {
     "name": "stdout",
     "output_type": "stream",
     "text": [
      "Parent Constructor Called\n",
      "cyrus\n",
      "Child Constructor Called\n",
      "Parent Constructor Called\n",
      "Hi\n",
      "5\n",
      "No Toys is:5\n",
      "Last name is:cyrus\n",
      "None\n"
     ]
    },
    {
     "data": {
      "text/plain": [
       "'123'"
      ]
     },
     "execution_count": 29,
     "metadata": {},
     "output_type": "execute_result"
    }
   ],
   "source": [
    "# Looking at Inheritence\n",
    "\n",
    "class Parent(object):                                        # In python 2 writing object insures that all your classes inherit \n",
    "    var = \"Hi\"                                               # from the python object class\n",
    "    def __init__(self,last_name,eye_color):\n",
    "        self.last_name = last_name\n",
    "        self.eye_color = eye_color\n",
    "        print (\"Parent Constructor Called\")\n",
    "      \n",
    "    def print_vals(self):\n",
    "        print (\"Eye color is:\" + self.eye_color)\n",
    "        print (\"Last name is:\" + self.last_name)\n",
    "        \n",
    "\n",
    "billy = Parent(\"cyrus\",\"black\")\n",
    "print billy.last_name\n",
    "\n",
    "class Child(Parent):                   # Class child will use everything that is publically available in class Parent\n",
    "    def __init__(self,last_name,eye_color,no_toys):\n",
    "        print (\"Child Constructor Called\")\n",
    "        \n",
    "        Parent.__init__(self,last_name,eye_color)  # Calling the constructor of the Parent class explicitly as we have created\n",
    "        self.no_toys = no_toys                     # a constructor for the child class here hence the parent one would be overriden\n",
    "    \n",
    "    def print_vals(self):                          # This method now overrides the print_vals method written in the Parent class\n",
    "        print (\"No Toys is:\" + self.no_toys)\n",
    "        print (\"Last name is:\" + self.last_name)\n",
    "        \n",
    "miley = Child(\"cyrus\",\"black\",\"5\")\n",
    "print miley.var\n",
    "print miley.no_toys\n",
    "print miley.print_vals() # The child class inherits all the methods from the parent class including the print_vals method\n"
   ]
  },
  {
   "cell_type": "markdown",
   "metadata": {},
   "source": [
    "ENCAPSULATION"
   ]
  },
  {
   "cell_type": "code",
   "execution_count": 5,
   "metadata": {},
   "outputs": [
    {
     "name": "stdout",
     "output_type": "stream",
     "text": [
      "(<type 'object'>,)\n"
     ]
    }
   ],
   "source": [
    "print Parent.__bases__       # Check base class of any class in python"
   ]
  },
  {
   "cell_type": "code",
   "execution_count": 2,
   "metadata": {},
   "outputs": [
    {
     "name": "stdout",
     "output_type": "stream",
     "text": [
      "updating software\n",
      "driving\n"
     ]
    },
    {
     "ename": "AttributeError",
     "evalue": "Car instance has no attribute '__updateSoftware'",
     "output_type": "error",
     "traceback": [
      "\u001b[1;31m---------------------------------------------------------------------------\u001b[0m",
      "\u001b[1;31mAttributeError\u001b[0m                            Traceback (most recent call last)",
      "\u001b[1;32m<ipython-input-2-06a745f56759>\u001b[0m in \u001b[0;36m<module>\u001b[1;34m()\u001b[0m\n\u001b[0;32m     15\u001b[0m \u001b[0mredcar\u001b[0m\u001b[1;33m.\u001b[0m\u001b[0mdrive\u001b[0m\u001b[1;33m(\u001b[0m\u001b[1;33m)\u001b[0m\u001b[1;33m\u001b[0m\u001b[0m\n\u001b[0;32m     16\u001b[0m \u001b[1;33m\u001b[0m\u001b[0m\n\u001b[1;32m---> 17\u001b[1;33m \u001b[0mredcar\u001b[0m\u001b[1;33m.\u001b[0m\u001b[0m__updateSoftware\u001b[0m\u001b[1;33m(\u001b[0m\u001b[1;33m)\u001b[0m \u001b[1;31m# not accesible from object.\u001b[0m\u001b[1;33m\u001b[0m\u001b[0m\n\u001b[0m\u001b[0;32m     18\u001b[0m \u001b[1;33m\u001b[0m\u001b[0m\n\u001b[0;32m     19\u001b[0m \u001b[1;31m# To access the __updateSoftware() method you will have to use the class name in the beginging so as to make sure that you are\u001b[0m\u001b[1;33m\u001b[0m\u001b[1;33m\u001b[0m\u001b[0m\n",
      "\u001b[1;31mAttributeError\u001b[0m: Car instance has no attribute '__updateSoftware'"
     ]
    }
   ],
   "source": [
    "# Private/Public Methods \n",
    "\n",
    "class Car:\n",
    " \n",
    "    def __init__(self):\n",
    "        self.__updateSoftware()\n",
    " \n",
    "    def drive(self):\n",
    "        print 'driving'\n",
    " \n",
    "    def __updateSoftware(self):\n",
    "        print 'updating software'\n",
    " \n",
    "redcar = Car()\n",
    "redcar.drive()\n",
    "\n",
    "#redcar.__updateSoftware() # not accesible from object.\n",
    "\n",
    "# To access the __updateSoftware() method you will have to use the class name in the beginging so as to make sure that you are \n",
    "# not accidently using the class function and its intentional\n",
    "\n",
    "redcar._Car__updateSoftware()"
   ]
  },
  {
   "cell_type": "code",
   "execution_count": 5,
   "metadata": {},
   "outputs": [
    {
     "name": "stdout",
     "output_type": "stream",
     "text": [
      "driving. maxspeed 200\n",
      "driving. maxspeed 200\n",
      "driving. maxspeed 320\n",
      "{'_Car__maxspeed': 320, '__maxspeed': 10, '_Car__name': 'Supercar'}\n",
      "driving. maxspeed 20\n",
      "10\n"
     ]
    }
   ],
   "source": [
    "# Private/Public Variables \n",
    "\n",
    "class Car:\n",
    "    \n",
    "    __maxspeed_1 = 0\n",
    "    __name = \"\"\n",
    " \n",
    "    def __init__(self):\n",
    "        self.__maxspeed = 200\n",
    "        self.__name = \"Supercar\"\n",
    " \n",
    "    def drive(self):\n",
    "        print 'driving. maxspeed ' + str(self.__maxspeed)\n",
    " \n",
    "    def setMaxSpeed(self,speed):\n",
    "        self.__maxspeed = speed\n",
    " \n",
    "redcar = Car()\n",
    "redcar.drive()\n",
    "redcar.__maxspeed = 10  # As the variable __maxspeed is private its value will not change using the = assignment. We will have to \n",
    "redcar.drive()          # use the set assignment to change the value. But what this statement will do is create a new attribute \n",
    "                        # called __maxspeed for redcar (just for the instance red car) and set its value to 10.\n",
    "    \n",
    "redcar.setMaxSpeed(320) # This set method changes the speed or you can use the hidden(real) name of the __maxspeed variable which\n",
    "redcar.drive()          # you can get by accessing the dictionary of all the attributes of the object as below\n",
    "\n",
    "print redcar.__dict__   # for class this gives the name of all(only) class variables and  functions. This shows that the __maxspeed variable is \n",
    "                        # actually stored as _Car__maxspeed hence using that to change the value of it. \n",
    "    \n",
    "redcar._Car__maxspeed = 20\n",
    "\n",
    "redcar.drive()   \n",
    "print redcar.__maxspeed # This is a new variable which is created for this instance of the class as we saw above. We can also view\n",
    "                        # this in the redcar.__dict__\n",
    "    "
   ]
  },
  {
   "cell_type": "code",
   "execution_count": 70,
   "metadata": {},
   "outputs": [
    {
     "name": "stdout",
     "output_type": "stream",
     "text": [
      "driving. maxspeed 200\n",
      "{'_Car__maxspeed': 0, '__module__': '__main__', 'drive': <function drive at 0x0000000004637668>, '_Car__name': '', '__doc__': None, '__init__': <function __init__ at 0x00000000046374A8>}\n",
      "{'_Car__maxspeed': 200, '_Car__name': 'Supercar'}\n"
     ]
    }
   ],
   "source": [
    "class Car:\n",
    " \n",
    "    __maxspeed = 0    # In this case there are 2 variables called _Car__maxspeed but one is class level and the other below is \n",
    "    __name = \"\"       # object or instance level as can be seen in the print statement.\n",
    " \n",
    "    def __init__(self):\n",
    "        self.__maxspeed = 200   # \n",
    "        self.__name = \"Supercar\"\n",
    " \n",
    "    def drive(self):\n",
    "        print 'driving. maxspeed ' + str(self.__maxspeed)\n",
    " \n",
    "bluecar = Car()\n",
    "bluecar.drive()\n",
    "\n",
    "print Car.__dict__\n",
    "print bluecar.__dict__"
   ]
  },
  {
   "cell_type": "markdown",
   "metadata": {},
   "source": [
    "POLYMORPHISM"
   ]
  },
  {
   "cell_type": "code",
   "execution_count": 77,
   "metadata": {},
   "outputs": [
    {
     "name": "stdout",
     "output_type": "stream",
     "text": [
      "Bananatruck: Truck driving slowly because heavily loaded.\n",
      "Orangetruck: Truck driving slowly because heavily loaded.\n",
      "Z3: Sportscar driving!\n"
     ]
    },
    {
     "data": {
      "text/plain": [
       "instance"
      ]
     },
     "execution_count": 77,
     "metadata": {},
     "output_type": "execute_result"
    }
   ],
   "source": [
    "# It is a formalized version of method override property of subclasses. Instead of defining a function in the parent class you \n",
    "# just define a empty function in it which would raise a error if not defined completly in the child class. Hence two child classes\n",
    "# can have their own version of the method with the skeleton (method name etc) coming from the parent class\n",
    "\n",
    "class Car:\n",
    "    def __init__(self, name):    \n",
    "        self.name = name\n",
    " \n",
    "    def drive(self):             \n",
    "        raise NotImplementedError(\"Subclass must implement abstract method\")\n",
    " \n",
    "    def stop(self):             \n",
    "        raise NotImplementedError(\"Subclass must implement abstract method\")\n",
    " \n",
    "class Sportscar(Car):\n",
    "    def drive(self):\n",
    "        return 'Sportscar driving!'\n",
    " \n",
    "    def stop(self):\n",
    "        return 'Sportscar braking!'\n",
    " \n",
    "class Truck(Car):\n",
    "    def drive(self):\n",
    "        return 'Truck driving slowly because heavily loaded.'\n",
    " \n",
    "    def stop(self):\n",
    "        return 'Truck braking!'\n",
    " \n",
    " \n",
    "cars = [Truck('Bananatruck'),\n",
    "        Truck('Orangetruck'),\n",
    "        Sportscar('Z3')]\n",
    " \n",
    "for car in cars:\n",
    "    print car.name + ': ' + car.drive()\n",
    "\n",
    "type(cars[1])"
   ]
  },
  {
   "cell_type": "markdown",
   "metadata": {},
   "source": [
    "CLASS METHOD VS STATIC METHOD VS OBJECT METHODS"
   ]
  },
  {
   "cell_type": "code",
   "execution_count": 48,
   "metadata": {},
   "outputs": [
    {
     "name": "stdout",
     "output_type": "stream",
     "text": [
      "314.159265359\n",
      "12.5663706144\n"
     ]
    }
   ],
   "source": [
    "import math\n",
    "class Pizza:\n",
    "    \n",
    "    def __init__(self,radius,ingredients):               # Constructor - Which is also like a Regular Object/Instance Method \n",
    "        self.ingredients = ingredients\n",
    "        self.radius = radius\n",
    "\n",
    "    def __repr__(self):                                  # This is a cool method which helps us change the default text that is \n",
    "        return 'Pizza(' + str(self.ingredients) + ')'    # printed when we print the object from instead of the object address to \n",
    "                                                         # whatever we type here\n",
    "    @classmethod\n",
    "    def __margherita(cls):                               # This is a class method meaning you dont need a object to call this. ALso \n",
    "        return cls(2,['mozzarella', 'tomatoes'])         # here it is used as a alternate constructor to create a margherita pizza\n",
    "                                                         # if we dont know its ingredients. Also note this is a private method here\n",
    "    @classmethod                                         # Class methods cannot change the instance level variables/methods\n",
    "    def prosciutto(cls):            \n",
    "        return cls(4,['mozzarella', 'tomatoes', 'ham'])\n",
    "                                                         #NoteIMP:Static methods dont pass the self as a automatic keyword in the \n",
    "    def area(self):                                      # function unlike a regular object method. Hence use them when you want \n",
    "        return self.circle_area(self.radius)             # to do no operations on self.\n",
    "     \n",
    "    \n",
    "    @staticmethod                                       # They can be called by using both the class and the object/instance of class\n",
    "    def circle_area(r):                                 # Interesting they cannot change a object variables or any class variables\n",
    "        return r ** 2 * math.pi                         # They are just like a regular function\n",
    "\n",
    "p1 = Pizza._Pizza__margherita()                          # Creating a margherita pizza using the class method\n",
    "p1                                                       # Instead of the address of the object printing the __repr__ version.\n",
    "\n",
    "print Pizza.circle_area(10)                              #Calling the static method as a regular function just like a pandas function\n",
    "print p1.area()                                          #Calling it with a object of the class \n",
    "\n"
   ]
  },
  {
   "cell_type": "code",
   "execution_count": 42,
   "metadata": {},
   "outputs": [
    {
     "name": "stdout",
     "output_type": "stream",
     "text": [
      "<__main__.Point instance at 0x000000000B7CF348> <__main__.Point instance at 0x000000000BBCB608>\n"
     ]
    }
   ],
   "source": [
    "# Same concept as above on another class\n",
    "class Point:\n",
    "    def __init__(self, x, y):\n",
    "        self.x, self.y = x, y\n",
    "        \n",
    "    def __repr__(self):\n",
    "        return 'We are returning %d %d' %(self.x,self.y)\n",
    "        \n",
    "    @classmethod\n",
    "    def c1(cls):\n",
    "        return cls(12,15)\n",
    "    \n",
    "P1 = Point.c1()\n",
    "print p1"
   ]
  },
  {
   "cell_type": "code",
   "execution_count": 46,
   "metadata": {},
   "outputs": [
    {
     "name": "stdout",
     "output_type": "stream",
     "text": [
      "Bye\n",
      "Hi\n",
      "Hi\n"
     ]
    }
   ],
   "source": [
    "# IF else if print sequence\n",
    "def h1():\n",
    "    if 5>10:\n",
    "        print 'Hi'\n",
    "    elif 5<7:\n",
    "        print 'Bye'\n",
    "    else: print 'to'\n",
    "    if 5<10:\n",
    "        print 'Hi'    \n",
    "    if 5<7:\n",
    "        print 'Hi' \n",
    "        \n",
    "h1()"
   ]
  },
  {
   "cell_type": "code",
   "execution_count": 66,
   "metadata": {},
   "outputs": [
    {
     "name": "stdout",
     "output_type": "stream",
     "text": [
      "4 3\n"
     ]
    }
   ],
   "source": [
    "# When to and not to use the self keyword in the function\n",
    "\n",
    "class hi:\n",
    "    self = 'e'\n",
    "    def __init__(self):\n",
    "            self.s = 'p'\n",
    "    @staticmethod            # Static methods dont take the self keyword, while in any other case you need to mention the static\n",
    "    def bye():               # keyword in the function as any function on a class object by default takes the object as a input\n",
    "        self = 't'\n",
    "        \n",
    "h1 = hi().bye()              # Both would run fine\n",
    "h1 = hi.bye()\n",
    "\n",
    "\n",
    "# Swap value between 2 variables - You dont need to create a intermediate variable c that takes the value of a to swap.\n",
    "\n",
    "a = 3                       \n",
    "b = 4\n",
    "a,b = b,a\n",
    "print a,b"
   ]
  },
  {
   "cell_type": "markdown",
   "metadata": {},
   "source": [
    "### Main Keyword"
   ]
  },
  {
   "cell_type": "code",
   "execution_count": 2,
   "metadata": {},
   "outputs": [
    {
     "ename": "SyntaxError",
     "evalue": "Missing parentheses in call to 'print' (<ipython-input-2-2f544209dc80>, line 7)",
     "output_type": "error",
     "traceback": [
      "\u001b[1;36m  File \u001b[1;32m\"<ipython-input-2-2f544209dc80>\"\u001b[1;36m, line \u001b[1;32m7\u001b[0m\n\u001b[1;33m    print 'hi'\u001b[0m\n\u001b[1;37m             ^\u001b[0m\n\u001b[1;31mSyntaxError\u001b[0m\u001b[1;31m:\u001b[0m Missing parentheses in call to 'print'\n"
     ]
    }
   ],
   "source": [
    "# Use of '__name__ = __main__'\n",
    "\n",
    "# So in python you dont have the main method like in java so if there is some executable code in a module\n",
    "# for example you create a class and then you write some code to check if the class is working \n",
    "# you can put that code using the if statement below:\n",
    "if __name__ == '__main__':\n",
    "    print 'hi'\n",
    "    \n",
    "# This code will only execute if you are running that python file (.py file) as then python sets the \n",
    "# value of __name__ = __main__ and the if executes. But if you are importing a module in python then\n",
    "# you dont want this test code to run right and the __name__ for the imported module is set as the \n",
    "# name of the module and not __main__ hence the __name__ code from the imported module is not executed\n",
    "\n",
    "# Also note: When you import a module all the functions in the module are executed.\n",
    "# That means that if you have a print statement in a module it will print that out even if you just\n",
    "# import that module.\n"
   ]
  },
  {
   "cell_type": "code",
   "execution_count": 3,
   "metadata": {},
   "outputs": [
    {
     "name": "stdout",
     "output_type": "stream",
     "text": [
      "6 4 5\n",
      "hi None\n"
     ]
    }
   ],
   "source": [
    "# Important Variable allocation\n",
    "\n",
    "# CASE - 1 How does multiple allocation work\n",
    "\n",
    "a,b,c = 4,5,6\n",
    "\n",
    "a,b,c = c,a,b       # Interesting the values from the previous step are locked and stored in temporary memory the variables\n",
    "print a,b,c         # dont take values based on the temporary allocation in this step they still derive the values from the\n",
    "                    # previous step\n",
    "    \n",
    "    \n",
    "# CASE - 2 How pointers work\n",
    "\n",
    "b = 'hi'\n",
    "a = b               # The pointer for a still points to 'hi' although b now points to None\n",
    "b = None\n",
    "print a,b"
   ]
  }
 ],
 "metadata": {
  "anaconda-cloud": {},
  "kernelspec": {
   "display_name": "Python 2",
   "language": "python",
   "name": "python2"
  },
  "language_info": {
   "codemirror_mode": {
    "name": "ipython",
    "version": 2
   },
   "file_extension": ".py",
   "mimetype": "text/x-python",
   "name": "python",
   "nbconvert_exporter": "python",
   "pygments_lexer": "ipython2",
   "version": "2.7.14"
  }
 },
 "nbformat": 4,
 "nbformat_minor": 1
}
